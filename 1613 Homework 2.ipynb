{
 "cells": [
  {
   "cell_type": "markdown",
   "metadata": {},
   "source": [
    "## Problem 2"
   ]
  },
  {
   "cell_type": "markdown",
   "metadata": {},
   "source": [
    "For the down-and-out call option with barrier B and strike price K, once the stock price reaches $B before the option matures, the option automatically expires worthless. \n",
    "\n",
    "The parameter are defined as following: \n",
    "\n",
    "Maturity T = 1 \n",
    "\n",
    "Initial asset value X(0) = $50\n",
    "\n",
    "Strike price K = $55\n",
    "\n",
    "Risk-free interest rate r = 0.05\n",
    "\n",
    "Volatility parameter σ^2 = (0.3)^2\n",
    "\n",
    "To discretizing the Geometric Brownian Motion, every Maturity is divided into 64 steps. Therefore, every Interval till Maturity has time length 1/64. The stock price for every 1/64 is calculated. If the stock price reaches barrier B, the loop will break and the option value will be recorded as zero in this replication. On the contrary, if the stock price remains higher than barrier B, the option value depends only on the final asset value on the expiration date, which is T = 1. If the stock price is higher than the Strike price K, the option worth X(1)-K; if the stock price is lower than or equal to the Strike price K, the option is worthless.\n",
    "\n",
    "After 40,000 replications are completed, the option value for barrier 35, 40, 45 are recorded in a list. Mean and confidence interval are computed for the option with different barriers. \n",
    "\n",
    "The option value with barrier 35 has 95% confidence interval [4.94081615,5.13417261] and mean 5.03749438.\n",
    "\n",
    "The option value with barrier 40 has 95% confidence interval [4.79612958,4.9887106] and mean 4.89242009.\n",
    "\n",
    "The option value with barrier 40 has 95% confidence interval [3.79450777,3.975221] and mean 3.88486438.\n",
    "\n",
    "As the barrier becomes higher, the average option value becomes lower. Since the option with higher barrier will have higher probability of being worthless, the average option value then is likely to be lower. "
   ]
  },
  {
   "cell_type": "code",
   "execution_count": 114,
   "metadata": {},
   "outputs": [
    {
     "name": "stdout",
     "output_type": "stream",
     "text": [
      "Mean and CI: (array([5.03749438]), [array([4.94081615]), array([5.13417261])])\n",
      "Mean and CI: (array([4.89242009]), [array([4.79612958]), array([4.9887106])])\n",
      "Mean and CI: (array([3.88486438]), [array([3.79450777]), array([3.975221])])\n"
     ]
    }
   ],
   "source": [
    "import numpy as np\n",
    "\n",
    "def CI_95(data):\n",
    "    a = np.array(data)\n",
    "    n = len(a)\n",
    "    m = np.mean(a)\n",
    "    sd = np.std(a,ddof=1)\n",
    "    hw = 1.96*sd / np.sqrt(n)\n",
    "    return m, [m-hw,m+hw]\n",
    "\n",
    "Maturity = 1.0\n",
    "InterestRate = 0.05\n",
    "Sigma = 0.3\n",
    "InitialValue = 50.0\n",
    "StrikePrice = 55.0\n",
    "Steps = 64\n",
    "Interval = Maturity / Steps\n",
    "Sigma2 = Sigma * Sigma / 2\n",
    "\n",
    "np.random.seed(1)\n",
    "Replications = 40000\n",
    "\n",
    "Interval = Maturity / Steps\n",
    "\n",
    "\n",
    "for barrier in (35,40,45):\n",
    "    ValueList = [] # List to keep the option value for each sample path\n",
    "\n",
    "    for i in range(0,Replications):\n",
    "\n",
    "        X = InitialValue\n",
    "        Value = 1\n",
    "        for j in range(0,Steps):\n",
    "            Z = np.random.standard_normal(1)\n",
    "            X = X * np.exp((InterestRate - Sigma2) * Interval +\n",
    "                           Sigma * np.sqrt(Interval) * Z)\n",
    "            # If there's any X value that falls below $B before the option matures then the option is worthless\n",
    "            if X <= barrier:\n",
    "                Value = 0\n",
    "                break\n",
    "        \n",
    "        if Value != 0:\n",
    "            Value = np.exp(-InterestRate * Maturity) * max(X - StrikePrice, 0)\n",
    "        \n",
    "        # append 0 if stock price reaches $B or max(X（T） - StrikePrice, 0) if not\n",
    "        ValueList.append(Value)    \n",
    "\n",
    "    print (\"Mean and CI:\", CI_95(ValueList))\n",
    "\n"
   ]
  },
  {
   "cell_type": "markdown",
   "metadata": {},
   "source": [
    "## Problem 3"
   ]
  },
  {
   "cell_type": "markdown",
   "metadata": {},
   "source": [
    "The parameter are defined as following:\n",
    "\n",
    "Arrivals is Poisson arrival process with rate lamda(t) = 1.\n",
    "\n",
    "Service times are independent and exponentially distributed with mean 0.8*n for n servers.\n",
    "\n",
    "For every Arrival event, schedule next arrival time, and add a customer to the queue. If there is enough resources available, seize the unit and schedule next departure as \"clock + Erlang(0.8)\" with label \"EndofService\". Otherwise, do not seize the unit and the customer remain in the queue. \n",
    "\n",
    "For every End of Service event, the queue removes a customer and the system time for the customer is recorded. If there is customer who is in the queue and has not been served, the customer gets the service and the next departure would be scheduled as \"clock + Erlang(0.8)\" with label \"EndofService\". \n",
    "\n",
    "Expected number of customers in the system is measured by the parameter Queue.Mean, because for every arrival regardless service or not is counted in the queue. The customer is removed out of the queue only when End of Service event happens.\n",
    "\n",
    "Expected system time is measured by the parameter Wait.Mean in the function, which include the wait time and service time.\n",
    "\n",
    "Expected number of busy servers is measured by utilization, which is busy server * working time / total time."
   ]
  },
  {
   "cell_type": "markdown",
   "metadata": {},
   "source": [
    "### (a)\n",
    "\n",
    "If there is 1 server:\n",
    "\n",
    "Estimated Expected Number of Customer in the System: 2.8868458306247526\n",
    "\n",
    "Estimated Expected System Time: 2.893562002038238\n",
    "\n",
    "Estimated Expected Number of Busy servers: 0.7980425215215462\n",
    "\n",
    "If there is 2 servers:\n",
    "\n",
    "Estimated Expected Number of Customer in the System: 3.1683645766072073\n",
    "\n",
    "Estimated Expected System Time: 3.1734180362698665\n",
    "\n",
    "Estimated Expected Number of Busy servers: 1.1961802501940428\n",
    "\n",
    "If there is 3 servers:\n",
    "\n",
    "Estimated Expected Number of Customer in the System: 3.497390138394917\n",
    "\n",
    "Estimated Expected System Time: 3.5040051214395413\n",
    "\n",
    "Estimated Expected Number of Busy servers: 1.5948518543153436\n",
    "\n",
    "### (b)\n",
    "\n",
    "As the server gets more, the expected number of customer in the system gets larger; the expected system time. If there are more servers, the average service time gets larger and the service efficiency gets lower. Therefore, more customers spend more time waiting in queue while the arrival process remains the same. "
   ]
  },
  {
   "cell_type": "code",
   "execution_count": 118,
   "metadata": {
    "scrolled": true
   },
   "outputs": [
    {
     "name": "stdout",
     "output_type": "stream",
     "text": [
      "Estimated Expected Number of Customer in the System: 2.933449953751253\n",
      "Estimated Expected System Time: 2.9292775509318028\n",
      "Estimated Expected Number of Busy servers: 0.8010104508355139\n",
      "Estimated Expected Number of Customer in the System: 3.231218377659419\n",
      "Estimated Expected System Time: 3.2298054936411114\n",
      "Estimated Expected Number of Busy servers: 1.200654865113195\n",
      "Estimated Expected Number of Customer in the System: 3.5398257773357757\n",
      "Estimated Expected System Time: 3.5404592572946387\n",
      "Estimated Expected Number of Busy servers: 1.6002388196181794\n"
     ]
    }
   ],
   "source": [
    "import SimFunctions\n",
    "import SimRNG \n",
    "import SimClasses\n",
    "import numpy as np\n",
    "import pandas\n",
    "\n",
    "\n",
    "ZSimRNG = SimRNG.InitializeRNSeed()\n",
    "\n",
    "Queue = SimClasses.FIFOQueue()\n",
    "Wait = SimClasses.DTStat()\n",
    "System = SimClasses.DTStat()\n",
    "Server = SimClasses.Resource()\n",
    "Calendar = SimClasses.EventCalendar()\n",
    "\n",
    "TheCTStats = []\n",
    "TheDTStats = []\n",
    "TheQueues = []\n",
    "TheResources = []\n",
    "\n",
    "TheDTStats.append(Wait)\n",
    "TheQueues.append(Queue)\n",
    "TheResources.append(Server)\n",
    "\n",
    "MeanTBA = 1.0\n",
    "Phases = 3\n",
    "RunLength = 55000.0\n",
    "WarmUp = 5000.0\n",
    "\n",
    "AllWaitMean = []\n",
    "AllQueueMean = []\n",
    "AllQueueNum = []\n",
    "AllServerMean = []\n",
    "\n",
    "\n",
    "def Arrival():   \n",
    "    SimFunctions.Schedule(Calendar,\"Arrival\",SimRNG.Expon(MeanTBA, 1))\n",
    "    Customer = SimClasses.Entity()\n",
    "    Queue.Add(Customer)\n",
    "    \n",
    "    if Server.Seize(1):\n",
    "        SimFunctions.Schedule(Calendar,\"EndOfService\",SimRNG.Erlang(Phases,MeanST,2))\n",
    "        \n",
    "def EndOfService():    \n",
    "    DepartingCustomer = Queue.Remove()\n",
    "    Wait.Record(SimClasses.Clock - DepartingCustomer.CreateTime)\n",
    "    \n",
    "    if Queue.NumQueue() >= n:\n",
    "        SimFunctions.Schedule(Calendar,\"EndOfService\",SimRNG.Erlang(Phases,MeanST,2))\n",
    "    else:\n",
    "        Server.Free(1)\n",
    "\n",
    "for n in (1,2,3): \n",
    "    Server.SetUnits (n) \n",
    "    MeanST = 0.8*n # setting mean service time\n",
    "    for reps in range(0,10,1):\n",
    "        SimFunctions.SimFunctionsInit(Calendar,TheQueues,TheCTStats,TheDTStats,TheResources)\n",
    "        SimFunctions.Schedule(Calendar,\"Arrival\",SimRNG.Expon(MeanTBA, 1))\n",
    "        SimFunctions.Schedule(Calendar,\"EndSimulation\",RunLength)\n",
    "        SimFunctions.Schedule(Calendar,\"ClearIt\",WarmUp)\n",
    "\n",
    "        NextEvent = Calendar.Remove()\n",
    "        SimClasses.Clock = NextEvent.EventTime\n",
    "        if NextEvent.EventType == \"Arrival\":\n",
    "            Arrival()\n",
    "        elif NextEvent.EventType == \"EndOfService\":\n",
    "            EndOfService() \n",
    "        elif NextEvent.EventType == \"ClearIt\":\n",
    "            SimFunctions.ClearStats(TheCTStats,TheDTStats)\n",
    "\n",
    "        while NextEvent.EventType != \"EndSimulation\":\n",
    "            NextEvent = Calendar.Remove()\n",
    "            SimClasses.Clock = NextEvent.EventTime\n",
    "            if NextEvent.EventType == \"Arrival\":\n",
    "                Arrival()\n",
    "            elif NextEvent.EventType == \"EndOfService\":\n",
    "                EndOfService()\n",
    "            elif NextEvent.EventType == \"ClearIt\":\n",
    "                SimFunctions.ClearStats(TheCTStats,TheDTStats)\n",
    "\n",
    "\n",
    "        AllWaitMean.append(Wait.Mean())\n",
    "        AllQueueMean.append(Queue.Mean())\n",
    "        AllServerMean.append(Server.Mean())\n",
    "        \n",
    "    # output results    \n",
    "    print(\"Estimated Expected Number of Customer in the System:\", np.mean(AllQueueMean))\n",
    "    print(\"Estimated Expected System Time:\", np.mean(AllWaitMean))\n",
    "    print(\"Estimated Expected Number of Busy servers:\",np.mean(AllServerMean))\n",
    "    "
   ]
  },
  {
   "cell_type": "markdown",
   "metadata": {},
   "source": [
    "## Problem 4"
   ]
  },
  {
   "cell_type": "markdown",
   "metadata": {},
   "source": [
    "For the M/G/1/c retrial queue that has c = 4, if any customer sees there are 4 people ahead, he will leave immediately and return. In this case, schedule another arrival event that follows distribution SimRNG.Expon(MeanTR, 3). If there are less than 4 people ahead, add the customer into the queue and schedule next arrival as SimRNG.Expon(MeanTBA, 1). \n",
    "\n",
    "Afterwards, if there is enough resources available, seize the unit and schedule next departure as \"clock + Erlang(mean=0.8)\" with label \"EndofService\". Otherwise, do not seize the unit and the customer remain in the queue. Same as previous question, for every end of service event, the queue removes a customer and the system time for the departured customer is recorded. If there is customer who is in the queue and has not been served, the next departure would be scheduled as \"clock + Erlang(mean=0.8)\" with label \"EndofService\".\n",
    "\n",
    "I set average service time 0.8 and 3 to see if service time need to smaller than arrival rate for the system to reach steady-state.\n",
    "\n",
    "I created a list called WaitRecord that can store the mean of waiting time for every additional customer. Since Wait.Record in DTStat is summing up the additional waiting time, I calculated the mean each time when Wait.Record sums up the additional customer. In this case, I plot first 400 value from the WaitRecord list to see if the waiting time converges to a constant. \n",
    "\n",
    "As the plot shown, the waiting time always converges to a constant regardless of the average service time."
   ]
  },
  {
   "cell_type": "code",
   "execution_count": 146,
   "metadata": {},
   "outputs": [
    {
     "data": {
      "image/png": "[encoded data removed]",
      "text/plain": [
       "<Figure size 720x432 with 1 Axes>"
      ]
     },
     "metadata": {
      "needs_background": "light"
     },
     "output_type": "display_data"
    },
    {
     "data": {
      "image/png": "[encoded data removed]",
      "text/plain": [
       "<Figure size 720x432 with 1 Axes>"
      ]
     },
     "metadata": {
      "needs_background": "light"
     },
     "output_type": "display_data"
    },
    {
     "data": {
      "image/png": "[encoded data removed]",
      "text/plain": [
       "<Figure size 720x432 with 1 Axes>"
      ]
     },
     "metadata": {
      "needs_background": "light"
     },
     "output_type": "display_data"
    },
    {
     "name": "stdout",
     "output_type": "stream",
     "text": [
      "Estimated Expected Average system time: 1.6413642202878147\n",
      "Estimated Expected Average queue-length: 1.5025705300222614\n",
      "Estimated Expected Average utilization: 0.7304717464245053\n"
     ]
    },
    {
     "data": {
      "image/png": "[encoded data removed]",
      "text/plain": [
       "<Figure size 720x432 with 1 Axes>"
      ]
     },
     "metadata": {
      "needs_background": "light"
     },
     "output_type": "display_data"
    },
    {
     "data": {
      "image/png": "[encoded data removed]",
      "text/plain": [
       "<Figure size 720x432 with 1 Axes>"
      ]
     },
     "metadata": {
      "needs_background": "light"
     },
     "output_type": "display_data"
    },
    {
     "data": {
      "image/png": "[encoded data removed]",
      "text/plain": [
       "<Figure size 720x432 with 1 Axes>"
      ]
     },
     "metadata": {
      "needs_background": "light"
     },
     "output_type": "display_data"
    },
    {
     "name": "stdout",
     "output_type": "stream",
     "text": [
      "Estimated Expected Average system time: 6.230795063965783\n",
      "Estimated Expected Average queue-length: 2.5534808982563404\n",
      "Estimated Expected Average utilization: 0.8647508456168597\n"
     ]
    }
   ],
   "source": [
    "import SimFunctions\n",
    "import SimRNG \n",
    "import SimClasses\n",
    "import numpy as np\n",
    "import pandas\n",
    "import matplotlib.pyplot as plt\n",
    "\n",
    "ZSimRNG = SimRNG.InitializeRNSeed()\n",
    "\n",
    "Queue = SimClasses.FIFOQueue()\n",
    "Wait = SimClasses.DTStat()\n",
    "Server = SimClasses.Resource()\n",
    "Calendar = SimClasses.EventCalendar()\n",
    "\n",
    "TheCTStats = []\n",
    "TheDTStats = []\n",
    "TheQueues = []\n",
    "TheResources = []\n",
    "\n",
    "TheDTStats.append(Wait)\n",
    "TheQueues.append(Queue)\n",
    "TheResources.append(Server)\n",
    "\n",
    "Server.SetUnits (1)\n",
    "MeanTBA = 1.0\n",
    "MeanTR = 1.0\n",
    "Phases = 3\n",
    "RunLength = 55000.0\n",
    "WarmUp = 5000.0\n",
    "c = 4\n",
    "\n",
    "AllWait = []\n",
    "AllWaitMean = []\n",
    "AllQueueMean = []\n",
    "AllQueueNum = []\n",
    "AllServerMean = []\n",
    "\n",
    "\n",
    "def Arrival():\n",
    "    Customer = SimClasses.Entity()\n",
    "    if Queue.NumQueue() >= c: # set retrial customer as stream 3\n",
    "        SimFunctions.Schedule(Calendar,\"Arrival\",SimRNG.Expon(MeanTR, 3))\n",
    "    else: # set first time customer as stream 1\n",
    "        SimFunctions.Schedule(Calendar,\"Arrival\",SimRNG.Expon(MeanTBA, 1))\n",
    "        Queue.Add(Customer)\n",
    "       \n",
    "    if Server.Busy == 0:\n",
    "        Server.Seize(1)\n",
    "        SimFunctions.Schedule(Calendar,\"EndOfService\",SimRNG.Erlang(Phases,MeanST,2))\n",
    "\n",
    "def EndOfService():\n",
    "    DepartingCustomer = Queue.Remove()\n",
    "    Wait.Record(SimClasses.Clock - DepartingCustomer.CreateTime)\n",
    "    WaitRecord.append(Wait.Mean()) # the mean for every additional customer \n",
    "    if Queue.NumQueue() > 0:\n",
    "        SimFunctions.Schedule(Calendar,\"EndOfService\",SimRNG.Erlang(Phases,MeanST,2))\n",
    "    else:\n",
    "        Server.Free(1)\n",
    "\n",
    "for rate in (0.8, 3): # comparing the service mean time that is less than or bigger than arrival mean time\n",
    "    MeanST = rate\n",
    "    \n",
    "    for reps in range(0,3,1): # 3 plots for average service time 0.8 and 3 respectively\n",
    "        WaitRecord = [] # create a list to store the mean of wait time for every additional customer\n",
    "\n",
    "        SimFunctions.SimFunctionsInit(Calendar,TheQueues,TheCTStats,TheDTStats,TheResources)\n",
    "        SimFunctions.Schedule(Calendar,\"Arrival\",SimRNG.Expon(MeanTBA, 1))\n",
    "        SimFunctions.Schedule(Calendar,\"EndSimulation\",RunLength)\n",
    "        SimFunctions.Schedule(Calendar,\"ClearIt\",WarmUp)\n",
    "\n",
    "\n",
    "        NextEvent = Calendar.Remove()\n",
    "        SimClasses.Clock = NextEvent.EventTime\n",
    "        if NextEvent.EventType == \"Arrival\":\n",
    "            Arrival()\n",
    "        elif NextEvent.EventType == \"EndOfService\":\n",
    "            EndOfService() \n",
    "        elif NextEvent.EventType == \"ClearIt\":\n",
    "            SimFunctions.ClearStats(TheCTStats,TheDTStats)\n",
    "\n",
    "        while NextEvent.EventType != \"EndSimulation\":\n",
    "            NextEvent = Calendar.Remove()\n",
    "            SimClasses.Clock = NextEvent.EventTime\n",
    "            if NextEvent.EventType == \"Arrival\":\n",
    "                Arrival()\n",
    "            elif NextEvent.EventType == \"EndOfService\":\n",
    "                EndOfService()\n",
    "            elif NextEvent.EventType == \"ClearIt\":\n",
    "                SimFunctions.ClearStats(TheCTStats,TheDTStats)\n",
    "\n",
    "\n",
    "        AllWaitMean.append(Wait.Mean())\n",
    "        AllQueueMean.append(Queue.Mean())\n",
    "        AllServerMean.append(Server.Mean())\n",
    "\n",
    "\n",
    "        plt.plot(np.array(WaitRecord[:400]),'o') # show first 400 customer average waiting time\n",
    "        plt.xlabel('Customer')\n",
    "        plt.ylabel('Ave. wait')\n",
    "        plt.rcParams['figure.figsize'] = (10, 6)\n",
    "        plt.rcParams.update({'font.size': 14})\n",
    "        plt.show()\n",
    "\n",
    "\n",
    "    # output results\n",
    "    print(\"Estimated Expected Average system time:\",np.mean(AllWaitMean))\n",
    "    print(\"Estimated Expected Average queue-length:\", np.mean(AllQueueMean))\n",
    "    print(\"Estimated Expected Average utilization:\",np.mean(AllServerMean))\n"
   ]
  },
  {
   "cell_type": "markdown",
   "metadata": {},
   "source": [
    "## Problem 5(a)"
   ]
  },
  {
   "cell_type": "markdown",
   "metadata": {},
   "source": [
    "Since 170 staffs arrived between 6:30AM and 7AM, I scheduled arrival events for all 170 staff to the calendar at the beginning of each replication. The arrival process follows uniform distribution from time 0 to 30. After all arrival events are set, the service begins from time 30. The servers are constantly busy until all 170 staff finished serving. Therefore, end simulation event happens when there are no more staff in the queue.\n",
    "\n",
    "The following result is the expected system time.\n",
    "\n",
    "Estimated Expected Average System Time: 119.51866481320315\n",
    "\n",
    "Mean and CI: (119.51866481320315, [118.34350277458698, 120.69382685181931])\n",
    "\n",
    "Since the expected service time is 15, according to E[Time in System]=E[Wait in Queue]+E[Service Time], E[Wait in Queue] = E[Time in System] - E[Service Time] = E[Time in System] - 15.\n",
    "\n",
    "Therefore, the expected wait time is as following.\n",
    "\n",
    "Estimated Expected Waiting Time: 104.51866481320315\n",
    "\n",
    "Mean and CI: (104.51866481320315, [103.34350277458698, 105.69382685181931])"
   ]
  },
  {
   "cell_type": "code",
   "execution_count": 136,
   "metadata": {},
   "outputs": [
    {
     "name": "stdout",
     "output_type": "stream",
     "text": [
      "Estimated Expected System Time: 119.56905410447558\n",
      "Mean and CI: (119.56905410447558, [118.43997098221409, 120.69813722673707])\n"
     ]
    }
   ],
   "source": [
    "import SimFunctions\n",
    "import SimRNG \n",
    "import SimClasses\n",
    "import numpy as np\n",
    "import pandas\n",
    "\n",
    "\n",
    "def CI_95(data):\n",
    "    a = np.array(data)\n",
    "    n = len(a)\n",
    "    m = np.mean(a)\n",
    "    sd = np.std(a,ddof=1)\n",
    "    hw = 1.96*sd / np.sqrt(n)\n",
    "    return m, [m-hw,m+hw]\n",
    "\n",
    "\n",
    "ZSimRNG = SimRNG.InitializeRNSeed()\n",
    "\n",
    "Queue = SimClasses.FIFOQueue()\n",
    "Wait = SimClasses.DTStat()\n",
    "Server = SimClasses.Resource()\n",
    "Calendar = SimClasses.EventCalendar()\n",
    "\n",
    "TheCTStats = []\n",
    "TheDTStats = []\n",
    "TheQueues = []\n",
    "TheResources = []\n",
    "\n",
    "TheDTStats.append(Wait)\n",
    "TheQueues.append(Queue)\n",
    "TheResources.append(Server)\n",
    "\n",
    "Server.SetUnits (10) # set 10 servers\n",
    "MeanST = 15\n",
    "Phases = 4\n",
    "\n",
    "AllWaitMean = []\n",
    "AllQueueMean = []\n",
    "AllQueueNum = []\n",
    "AllServerMean = []\n",
    "\n",
    "def Arrival():   \n",
    "    Customer = SimClasses.Entity()\n",
    "    Queue.Add(Customer)\n",
    "    \n",
    "    if Server.Seize(1):\n",
    "        SimFunctions.Schedule(Calendar,\"EndOfService\",SimRNG.Erlang(Phases,MeanST,2))\n",
    "\n",
    "def EndOfService():    \n",
    "    DepartingCustomer = Queue.Remove()\n",
    "    Wait.Record(SimClasses.Clock - DepartingCustomer.CreateTime)\n",
    "    if Queue.NumQueue() >= 10:\n",
    "\n",
    "        SimFunctions.Schedule(Calendar,\"EndOfService\",SimRNG.Erlang(Phases,MeanST,2))\n",
    "    else:\n",
    "        Server.Free(1)\n",
    "    \n",
    "    if Queue.NumQueue() == 0: # no more staff in the queue\n",
    "        SimFunctions.Schedule(Calendar,\"EndSimulation\",RunLength)\n",
    "\n",
    "        \n",
    "for reps in range(0,100,1):\n",
    "    SimFunctions.SimFunctionsInit(Calendar,TheQueues,TheCTStats,TheDTStats,TheResources)\n",
    "    \n",
    "    for n in range(170): # schedule 170 arrival events\n",
    "        SimFunctions.Schedule(Calendar,\"Arrival\",SimRNG.Uniform(0, 30, 1))\n",
    "\n",
    "    NextEvent = Calendar.Remove()\n",
    "    SimClasses.Clock = NextEvent.EventTime\n",
    "    if NextEvent.EventType == \"Arrival\":\n",
    "        Arrival()\n",
    "    elif NextEvent.EventType == \"EndOfService\":\n",
    "        EndOfService() \n",
    "    \n",
    "    while NextEvent.EventType != \"EndSimulation\":\n",
    "        NextEvent = Calendar.Remove()\n",
    "        SimClasses.Clock = NextEvent.EventTime\n",
    "        if NextEvent.EventType == \"Arrival\":\n",
    "            Arrival()\n",
    "        elif NextEvent.EventType == \"EndOfService\":\n",
    "            EndOfService()\n",
    "\n",
    "    \n",
    "    AllWaitMean.append(Wait.Mean())\n",
    "\n",
    "# Expected System time\n",
    "print (\"Estimated Expected System Time:\",np.mean(AllWaitMean))\n",
    "print (\"Mean and CI:\", CI_95(AllWaitMean))\n",
    "\n",
    "# Expected Wait time will be Expected System time - 15"
   ]
  },
  {
   "cell_type": "markdown",
   "metadata": {},
   "source": [
    "## Problem 5(b)"
   ]
  },
  {
   "cell_type": "markdown",
   "metadata": {},
   "source": [
    "By testing from 30 to 40, I found that approximately 36 servers are needed to keep the average waiting time below 15 minutes.\n",
    "\n",
    "Estimated Expected Average wait: 14.558673770780633\n",
    "\n",
    "Mean and CI: (14.558673770780633, [14.191063881943734, 14.926283659617532])"
   ]
  },
  {
   "cell_type": "code",
   "execution_count": 144,
   "metadata": {},
   "outputs": [
    {
     "name": "stdout",
     "output_type": "stream",
     "text": [
      "Estimated Expected Average wait: 29.558673770780633\n",
      "Mean and CI: (29.558673770780633, [29.191063881943734, 29.926283659617532])\n"
     ]
    }
   ],
   "source": [
    "import SimFunctions\n",
    "import SimRNG \n",
    "import SimClasses\n",
    "import numpy as np\n",
    "import pandas\n",
    "\n",
    "\n",
    "def CI_95(data):\n",
    "    a = np.array(data)\n",
    "    n = len(a)\n",
    "    m = np.mean(a)\n",
    "    sd = np.std(a,ddof=1)\n",
    "    hw = 1.96*sd / np.sqrt(n)\n",
    "    return m, [m-hw,m+hw]\n",
    "\n",
    "\n",
    "ZSimRNG = SimRNG.InitializeRNSeed()\n",
    "\n",
    "Queue = SimClasses.FIFOQueue()\n",
    "Wait = SimClasses.DTStat()\n",
    "Server = SimClasses.Resource()\n",
    "Calendar = SimClasses.EventCalendar()\n",
    "\n",
    "TheCTStats = []\n",
    "TheDTStats = []\n",
    "TheQueues = []\n",
    "TheResources = []\n",
    "\n",
    "TheDTStats.append(Wait)\n",
    "TheQueues.append(Queue)\n",
    "TheResources.append(Server)\n",
    "\n",
    "Server.SetUnits (36) \n",
    "MeanST = 15\n",
    "Phases = 4\n",
    "\n",
    "AllWaitMean = []\n",
    "AllQueueMean = []\n",
    "AllQueueNum = []\n",
    "AllServerMean = []\n",
    "\n",
    "def Arrival():   \n",
    "    Customer = SimClasses.Entity()\n",
    "    Queue.Add(Customer)\n",
    "    \n",
    "    if Server.Seize(1):\n",
    "        SimFunctions.Schedule(Calendar,\"EndOfService\",SimRNG.Erlang(Phases,MeanST,2))\n",
    "\n",
    "def EndOfService():    \n",
    "    DepartingCustomer = Queue.Remove()\n",
    "    Wait.Record(SimClasses.Clock - DepartingCustomer.CreateTime)\n",
    "    \n",
    "    if Queue.NumQueue() >= 36:\n",
    "        SimFunctions.Schedule(Calendar,\"EndOfService\",SimRNG.Erlang(Phases,MeanST,2))\n",
    "    else:\n",
    "        Server.Free(1)\n",
    "    \n",
    "    if Queue.NumQueue() == 0: # no more staff in the queue\n",
    "        SimFunctions.Schedule(Calendar,\"EndSimulation\",RunLength)\n",
    "\n",
    "for reps in range(0,100,1):\n",
    "    SimFunctions.SimFunctionsInit(Calendar,TheQueues,TheCTStats,TheDTStats,TheResources)\n",
    "    \n",
    "    for n in range(170): # schedule 170 arrival events\n",
    "        SimFunctions.Schedule(Calendar,\"Arrival\",SimRNG.Uniform(0, 30, 1))\n",
    "        \n",
    "    \n",
    "    NextEvent = Calendar.Remove()\n",
    "    SimClasses.Clock = NextEvent.EventTime\n",
    "    if NextEvent.EventType == \"Arrival\":\n",
    "        Arrival()\n",
    "    elif NextEvent.EventType == \"EndOfService\":\n",
    "        EndOfService() \n",
    "    \n",
    "    while NextEvent.EventType != \"EndSimulation\":\n",
    "        NextEvent = Calendar.Remove()\n",
    "        SimClasses.Clock = NextEvent.EventTime\n",
    "        if NextEvent.EventType == \"Arrival\":\n",
    "            Arrival()\n",
    "        elif NextEvent.EventType == \"EndOfService\":\n",
    "            EndOfService()\n",
    "\n",
    "    \n",
    "    AllWaitMean.append(Wait.Mean())  \n",
    "\n",
    "# output results\n",
    "print(\"Estimated Expected System time:\",np.mean(AllWaitMean))\n",
    "print (\"Mean and CI:\", CI_95(AllWaitMean))\n",
    "\n",
    "# Expected Wait time will be Expected System time - 15"
   ]
  },
  {
   "cell_type": "code",
   "execution_count": null,
   "metadata": {},
   "outputs": [],
   "source": []
  }
 ],
 "metadata": {
  "kernelspec": {
   "display_name": "Python 3",
   "language": "python",
   "name": "python3"
  },
  "language_info": {
   "codemirror_mode": {
    "name": "ipython",
    "version": 3
   },
   "file_extension": ".py",
   "mimetype": "text/x-python",
   "name": "python",
   "nbconvert_exporter": "python",
   "pygments_lexer": "ipython3",
   "version": "3.8.3"
  }
 },
 "nbformat": 4,
 "nbformat_minor": 4
}
