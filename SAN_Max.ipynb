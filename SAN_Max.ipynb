{
 "cells": [
  {
   "cell_type": "markdown",
   "metadata": {},
   "source": [
    "## Stochastic Activity Network (SAN)"
   ]
  },
  {
   "cell_type": "code",
   "execution_count": 1,
   "metadata": {},
   "outputs": [
    {
     "name": "stdout",
     "output_type": "stream",
     "text": [
      "Exact probability: 0.16532970699360805\n",
      "Estimated probability: 0.16 +/- 0.022722478738025038\n"
     ]
    }
   ],
   "source": [
    "import numpy as np\n",
    "import math\n",
    "import matplotlib.pyplot as plt\n",
    " \n",
    "np.random.seed(1)\n",
    "\n",
    "N = 1000\n",
    "c = 0\n",
    "tp = 5\n",
    "Y_list = []\n",
    "for rep in range(0,N,1):\n",
    "    X = []\n",
    "    for i in range(0,5,1):\n",
    "        X.append(np.random.exponential(1.0))\n",
    "    Y = max(X[0] + X[3], X[0] + X[2] + X[4], X[1] + X[4])\n",
    "    Y_list.append(Y)\n",
    "    if Y > tp:\n",
    "        c = c + 1\n",
    "Theta_hat = float(c)/N\n",
    "Theta = 1- ((tp ** 2 / 2.0 - 3 * tp - 3) * math.exp(-2 * tp) \n",
    "            + (-tp ** 2 / 2.0 - 3 * tp + 3) * math.exp(-tp) + 1 - math.exp(-3 * tp))        \n",
    "\n",
    "print(\"Exact probability:\", Theta)\n",
    "print(\"Estimated probability:\", Theta_hat, \"+/-\",\n",
    "      1.96*math.sqrt((Theta_hat*(1-Theta_hat))/N))\n"
   ]
  },
  {
   "cell_type": "code",
   "execution_count": 2,
   "metadata": {},
   "outputs": [
    {
     "data": {
      "image/png": "[encoded data removed]",
      "text/plain": [
       "<Figure size 432x288 with 1 Axes>"
      ]
     },
     "metadata": {},
     "output_type": "display_data"
    }
   ],
   "source": [
    "plt.hist(Y_list, bins=25, cumulative = False,\n",
    "                label = \"Project duration\")\n",
    "plt.rcParams['figure.figsize'] = (10, 5)\n",
    "plt.rcParams.update({'font.size': 18})\n",
    "plt.xlabel(\"Project duration\")\n",
    "plt.ylabel(\"Frequency\")\n",
    "plt.show()"
   ]
  },
  {
   "cell_type": "code",
   "execution_count": 3,
   "metadata": {},
   "outputs": [
    {
     "data": {
      "text/plain": [
       "3.419881586765201"
      ]
     },
     "execution_count": 3,
     "metadata": {},
     "output_type": "execute_result"
    }
   ],
   "source": [
    "np.mean(Y_list)"
   ]
  }
 ],
 "metadata": {
  "kernelspec": {
   "display_name": "Python 3",
   "language": "python",
   "name": "python3"
  },
  "language_info": {
   "codemirror_mode": {
    "name": "ipython",
    "version": 3
   },
   "file_extension": ".py",
   "mimetype": "text/x-python",
   "name": "python",
   "nbconvert_exporter": "python",
   "pygments_lexer": "ipython3",
   "version": "3.7.0"
  }
 },
 "nbformat": 4,
 "nbformat_minor": 2
}
